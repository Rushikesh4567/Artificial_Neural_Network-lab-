{
  "nbformat": 4,
  "nbformat_minor": 0,
  "metadata": {
    "colab": {
      "provenance": []
    },
    "kernelspec": {
      "name": "python3",
      "display_name": "Python 3"
    },
    "language_info": {
      "name": "python"
    }
  },
  "cells": [
    {
      "cell_type": "code",
      "execution_count": null,
      "metadata": {
        "colab": {
          "base_uri": "https://localhost:8080/"
        },
        "id": "vKdhbt7Rs02t",
        "outputId": "126efa15-f70b-4b33-91da-c0b36af13a90"
      },
      "outputs": [
        {
          "output_type": "stream",
          "name": "stdout",
          "text": [
            "Logical AND Gate\n",
            "\n",
            "X1 X2 W1 W2 O/P\n",
            "0  0  1  1  0\n",
            "0  1  1  1  0\n",
            "1  0  1  1  0\n",
            "1  1  1  1  1\n"
          ]
        }
      ],
      "source": [
        "import numpy as np\n",
        "arr1=([[0,0],[0,1],[1,0],[1,1]])\n",
        "weight1=1\n",
        "weight2=1\n",
        "bias=-1.5\n",
        "\n",
        "print(\"Logical AND Gate\\n\")\n",
        "print(\"X1 X2 W1 W2 O/P\")\n",
        "\n",
        "for x in arr1:\n",
        "  wt_sum=(weight1*x[0]+weight2*x[1])+bias\n",
        "\n",
        "  if wt_sum>0:\n",
        "    print(f\"{x[0]}  {x[1]}  {weight1}  {weight2}  1\")\n",
        "  else:\n",
        "    print(f\"{x[0]}  {x[1]}  {weight1}  {weight2}  0\")\n",
        "\n"
      ]
    },
    {
      "cell_type": "code",
      "source": [
        "import numpy as np\n",
        "arr1=([[0,0],[0,1],[1,0],[1,1]])\n",
        "weight1=1\n",
        "weight2=1\n",
        "bias=-0.5\n",
        "\n",
        "print(\"Logical OR Gate\\n\")\n",
        "print(\"X1 X2 W1 W2 O/P\")\n",
        "\n",
        "for x in arr1:\n",
        "  wt_sum=(weight1*x[0]+weight2*x[1])+bias\n",
        "\n",
        "  if wt_sum>0:\n",
        "    print(f\"{x[0]}  {x[1]}  {weight1}  {weight2}  1\")\n",
        "  else:\n",
        "    print(f\"{x[0]}  {x[1]}  {weight1}  {weight2}  0\")"
      ],
      "metadata": {
        "colab": {
          "base_uri": "https://localhost:8080/"
        },
        "id": "Ur-7Tc-Ss9AH",
        "outputId": "5a9ffc65-3347-46df-f6e3-45ab9fa4e269"
      },
      "execution_count": null,
      "outputs": [
        {
          "output_type": "stream",
          "name": "stdout",
          "text": [
            "Logical OR Gate\n",
            "\n",
            "X1 X2 W1 W2 O/P\n",
            "0  0  1  1  0\n",
            "0  1  1  1  1\n",
            "1  0  1  1  1\n",
            "1  1  1  1  1\n"
          ]
        }
      ]
    },
    {
      "cell_type": "code",
      "source": [
        "import numpy as np\n",
        "arr1=([[0,0],[0,1],[1,0],[1,1]])\n",
        "weight1=-1.5\n",
        "weight2=-1.5\n",
        "bias=2\n",
        "\n",
        "print(\"Logical NAND Gate\\n\")\n",
        "print(\"X1 X2 W1 W2 O/P\")\n",
        "\n",
        "for x in arr1:\n",
        "  wt_sum=(weight1*x[0]+weight2*x[1])+bias\n",
        "\n",
        "  if wt_sum>0:\n",
        "    print(f\"{x[0]}  {x[1]}  {weight1}  {weight2}  1\")\n",
        "  else:\n",
        "    print(f\"{x[0]}  {x[1]}  {weight1}  {weight2}  0\")"
      ],
      "metadata": {
        "colab": {
          "base_uri": "https://localhost:8080/"
        },
        "id": "SVbHF_Avvwm8",
        "outputId": "e34193d9-0f46-453d-e014-48fa0e68bba9"
      },
      "execution_count": null,
      "outputs": [
        {
          "output_type": "stream",
          "name": "stdout",
          "text": [
            "Logical NAND Gate\n",
            "\n",
            "X1 X2 W1 W2 O/P\n",
            "0  0  -1.5  -1.5  1\n",
            "0  1  -1.5  -1.5  1\n",
            "1  0  -1.5  -1.5  1\n",
            "1  1  -1.5  -1.5  0\n"
          ]
        }
      ]
    },
    {
      "cell_type": "code",
      "source": [
        "import numpy as np\n",
        "arr1=([[0,0],[0,1],[1,0],[1,1]])\n",
        "weight1=-1.5\n",
        "weight2=-1.5\n",
        "bias=1\n",
        "\n",
        "print(\"Logical NOR Gate\\n\")\n",
        "print(\"X1 X2 W1 W2 O/P\")\n",
        "\n",
        "for x in arr1:\n",
        "  wt_sum=(weight1*x[0]+weight2*x[1])+bias\n",
        "\n",
        "  if wt_sum>0:\n",
        "    print(f\"{x[0]}  {x[1]}  {weight1}  {weight2}  1\")\n",
        "  else:\n",
        "    print(f\"{x[0]}  {x[1]}  {weight1}  {weight2}  0\")"
      ],
      "metadata": {
        "colab": {
          "base_uri": "https://localhost:8080/"
        },
        "id": "OgD-nZQEwH43",
        "outputId": "c7bb4ce1-2303-423e-ba2c-38403c359259"
      },
      "execution_count": null,
      "outputs": [
        {
          "output_type": "stream",
          "name": "stdout",
          "text": [
            "Logical NOR Gate\n",
            "\n",
            "X1 X2 W1 W2 O/P\n",
            "0  0  -1.5  -1.5  1\n",
            "0  1  -1.5  -1.5  0\n",
            "1  0  -1.5  -1.5  0\n",
            "1  1  -1.5  -1.5  0\n"
          ]
        }
      ]
    }
  ]
}