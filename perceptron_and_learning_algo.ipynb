{
  "nbformat": 4,
  "nbformat_minor": 0,
  "metadata": {
    "colab": {
      "provenance": []
    },
    "kernelspec": {
      "name": "python3",
      "display_name": "Python 3"
    },
    "language_info": {
      "name": "python"
    }
  },
  "cells": [
    {
      "cell_type": "code",
      "execution_count": 1,
      "metadata": {
        "id": "0rvBntkdiyCY"
      },
      "outputs": [],
      "source": [
        "# here is the compuatational\n",
        "import numpy as np\n",
        "\n",
        "def sigmoid(x):\n",
        "    return 1 / (1 + np.exp(-x))\n",
        "\n"
      ]
    },
    {
      "cell_type": "code",
      "source": [
        "# check how many capitals are present\n",
        "def count_capitals(letters):\n",
        "  cnt=0;\n",
        "\n",
        "  for i in letters:\n",
        "    if i.isupper():\n",
        "      cnt = cnt + 1\n",
        "\n",
        "  print(\"The count of the capitals are \",cnt)\n",
        "\n",
        "\n",
        "def count_keywords(letters,keywords):\n",
        "\n",
        "  cnt = 0\n",
        "\n",
        "  # make all the string to lower first\n",
        "\n",
        "  lower_string = letters.lower()\n",
        "\n",
        "  for word in keywords:\n",
        "    if word in lower_string:\n",
        "      cnt = cnt + 1\n",
        "\n",
        "  print(\"The count of the keywords present in the letters is \",cnt)\n",
        "\n",
        "\n",
        "def length_of_string(letters):\n",
        "  return len(letters)\n",
        "\n",
        "email=\"Congratulations you WON 10000\"\n",
        "\n",
        "keywords = [\"congratulations\",\"won\"]\n",
        "\n",
        "count_capitals(email)\n",
        "count_keywords(email,keywords)\n",
        "\n",
        "res = length_of_string(email)\n",
        "\n",
        "def get_features(email):\n",
        "  return np.array([res,count_capitals(email),count_keywords(email,keywords)])\n"
      ],
      "metadata": {
        "id": "Q8UCDUr8rPZX",
        "colab": {
          "base_uri": "https://localhost:8080/"
        },
        "outputId": "305a4126-2034-4eaa-a513-bde2dcdc55ec"
      },
      "execution_count": 2,
      "outputs": [
        {
          "output_type": "stream",
          "name": "stdout",
          "text": [
            "The count of the capitals are  4\n",
            "The count of the keywords present in the letters is  2\n"
          ]
        }
      ]
    },
    {
      "cell_type": "code",
      "source": [
        "import numpy as np\n",
        "\n",
        "def sigmoid(z):\n",
        "    return 1 / (1 + np.exp(-z))\n",
        "\n",
        "def predict(features, weights, bias):\n",
        "    z = np.dot(features, weights) + bias\n",
        "    probability = sigmoid(z)\n",
        "    return 1 if probability >= 0.5 else 0\n",
        "\n",
        "def gradient_descent(X, y, weights, bias, learning_rate, epochs):\n",
        "    m = len(y)\n",
        "    for _ in range(epochs):\n",
        "        predictions = sigmoid(np.dot(X, weights) + bias)\n",
        "        dw = (1/m) * np.dot(X.T, (predictions - y))\n",
        "        db = (1/m) * np.sum(predictions - y)\n",
        "        weights -= learning_rate * dw\n",
        "        bias -= learning_rate * db\n",
        "    return weights, bias\n",
        "\n",
        "def get_features(email):\n",
        "    words = email.lower().split()\n",
        "    feature1 = len(words)\n",
        "    feature2 = 1 if 'prize' in words else 0\n",
        "    feature3 = len(email)\n",
        "    return np.array([feature1, feature2, feature3])\n",
        "\n",
        "# Training data\n",
        "X = np.array([\n",
        "    [3, 1, 150],\n",
        "    [5, 1, 180],\n",
        "])\n",
        "y = np.array([1, 0])\n",
        "\n",
        "# Initialize weights and bias\n",
        "weights = np.random.randn(3)\n",
        "bias = np.random.randn(1)\n",
        "\n",
        "# Train model\n",
        "learning_rate = 0.01\n",
        "epochs = 1000\n",
        "weights, bias = gradient_descent(X, y, weights, bias, learning_rate, epochs)\n",
        "\n",
        "# Predict on new email\n",
        "email = \"Congratulations You WON a prize of rupees 1 crore\"\n",
        "x_test = get_features(email)\n",
        "y_pred = predict(x_test, weights, bias)\n",
        "\n",
        "print(f\"Predicted email (0 = Not Spam, 1 = Spam): {y_pred}\")\n"
      ],
      "metadata": {
        "id": "7lk4Qd-ktMZu",
        "colab": {
          "base_uri": "https://localhost:8080/"
        },
        "outputId": "a3fce2c5-03ce-40a2-c6b6-63e6b976c646"
      },
      "execution_count": 3,
      "outputs": [
        {
          "output_type": "stream",
          "name": "stdout",
          "text": [
            "Predicted email (0 = Not Spam, 1 = Spam): 0\n"
          ]
        }
      ]
    }
  ]
}