{
  "nbformat": 4,
  "nbformat_minor": 0,
  "metadata": {
    "colab": {
      "provenance": []
    },
    "kernelspec": {
      "name": "python3",
      "display_name": "Python 3"
    },
    "language_info": {
      "name": "python"
    }
  },
  "cells": [
    {
      "cell_type": "code",
      "execution_count": null,
      "metadata": {
        "id": "ytNNoBmr0IlF"
      },
      "outputs": [],
      "source": [
        " import numpy as np\n",
        "\n",
        "# Activation functions\n",
        "def relu(x):\n",
        "    return np.maximum(0, x)\n",
        "\n",
        "def sigmoid(x):\n",
        "    return 1 / (1 + np.exp(-x))"
      ]
    },
    {
      "cell_type": "code",
      "source": [
        "# Input features: [genre, actor, rating]\n",
        "X = np.array([0.9, 0.7, 4.5])\n",
        "X[2] = X[2] / 5\n",
        "\n",
        "weights_input_hidden = np.array([\n",
        "    [0.2, 0.4],\n",
        "    [0.3, 0.1],\n",
        "    [0.5, 0.6]\n",
        "])\n",
        "bias_hidden = np.array([0.1, 0.2])\n",
        "\n",
        "#Assigning weights and biases\n",
        "weights_hidden_output = np.array([0.5, 0.6])\n",
        "bias_output = 0.1"
      ],
      "metadata": {
        "id": "YZKhnmkq0nbf"
      },
      "execution_count": null,
      "outputs": []
    },
    {
      "cell_type": "code",
      "source": [
        "# Forward Propagation\n",
        "z_hidden = np.dot(X, weights_input_hidden) + bias_hidden\n",
        "a_hidden = relu(z_hidden)\n",
        "\n",
        "z_output = np.dot(a_hidden, weights_hidden_output) + bias_output\n",
        "output = sigmoid(z_output)\n",
        "\n",
        "print(\"Predicted output (person likes a movie or not):\", round(output))"
      ],
      "metadata": {
        "colab": {
          "base_uri": "https://localhost:8080/"
        },
        "id": "uxQ064DO0vrC",
        "outputId": "837cd6ce-918f-491f-b8ff-b7dc6e25def7"
      },
      "execution_count": null,
      "outputs": [
        {
          "output_type": "stream",
          "name": "stdout",
          "text": [
            "Predicted output (person likes a movie or not): 1\n"
          ]
        }
      ]
    }
  ]
}