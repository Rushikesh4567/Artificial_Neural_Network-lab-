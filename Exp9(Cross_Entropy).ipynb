{
  "cells": [
    {
      "cell_type": "code",
      "execution_count": null,
      "metadata": {
        "id": "h0sW4mRgCEiZ"
      },
      "outputs": [],
      "source": [
        "#House price prediction\n",
        "import numpy as np\n",
        "\n",
        "# Input features (house characteristics like rooms,area in sq.ft,location index)\n",
        "X = np.array([\n",
        "    [3, 1500, 0.7],\n",
        "    [2, 800, 0.5],\n",
        "    [4, 2500, 0.8],\n",
        "    [5, 3500, 0.9],\n",
        "    [3, 2000, 0.6]\n",
        "])\n",
        "\n",
        "\n",
        "Y = np.array([[400000], [150000], [600000], [800000], [500000]])\n",
        "\n",
        "# Initialize weights and bias\n",
        "W = np.random.rand(3, 1)\n",
        "b = np.random.rand(1)\n",
        "\n",
        "\n",
        "lr = 0.0000001\n",
        "epochs = 1000\n",
        "\n",
        "\n",
        "def linear(x):\n",
        "    return x\n",
        "\n",
        "# Loss function\n",
        "def mse_loss(y_true, y_pred):\n",
        "    return np.mean((y_true - y_pred) ** 2)\n"
      ]
    },
    {
      "cell_type": "code",
      "execution_count": null,
      "metadata": {
        "colab": {
          "base_uri": "https://localhost:8080/"
        },
        "id": "Y_vOP40uECOz",
        "outputId": "ca00eda2-00ea-4b40-d128-9e8aea4b8f01"
      },
      "outputs": [
        {
          "name": "stdout",
          "output_type": "stream",
          "text": [
            "Epoch 0, Loss: 285637701253.1356\n",
            "Epoch 100, Loss: 1030124840.0964\n",
            "Epoch 200, Loss: 1030124504.7055\n",
            "Epoch 300, Loss: 1030124169.3202\n",
            "Epoch 400, Loss: 1030123833.9406\n",
            "Epoch 500, Loss: 1030123498.5666\n",
            "Epoch 600, Loss: 1030123163.1983\n",
            "Epoch 700, Loss: 1030122827.8355\n",
            "Epoch 800, Loss: 1030122492.4785\n",
            "Epoch 900, Loss: 1030122157.1270\n",
            "\n",
            "Final Predictions (House Prices):\n",
            "[[355652.96]\n",
            " [189682.44]\n",
            " [592753.17]\n",
            " [829853.37]\n",
            " [474202.46]]\n"
          ]
        }
      ],
      "source": [
        "# Training model(loop)\n",
        "for epoch in range(epochs):\n",
        "    z = np.dot(X, W) + b\n",
        "    A = linear(z)\n",
        "\n",
        "    loss = mse_loss(Y, A)\n",
        "    d_loss = 2 * (A - Y) / len(Y)\n",
        "\n",
        "    dW = np.dot(X.T, d_loss)\n",
        "    db = np.sum(d_loss)\n",
        "\n",
        "    W -= lr * dW\n",
        "    b -= lr * db\n",
        "\n",
        "\n",
        "    if epoch % 100== 0:\n",
        "        print(f\"Epoch {epoch}, Loss: {loss:.4f}\")\n",
        "\n",
        "\n",
        "output = linear(np.dot(X, W) + b)\n",
        "print(\"\\nFinal Predictions (House Prices):\")\n",
        "print(output.round(2))"
      ]
    },
    {
      "cell_type": "code",
      "execution_count": null,
      "metadata": {
        "id": "QWzffnFWfFK-"
      },
      "outputs": [],
      "source": [
        "#span email detection\n",
        "import numpy as np\n",
        "\n",
        "# Columns might represent: [keyword frequency, sender score, email length]\n",
        "X = np.array([\n",
        "    [0.9, 0.2, 100],\n",
        "    [0.1, 0.9, 200],\n",
        "    [0.8, 0.3, 80],\n",
        "    [0.2, 0.8, 180],\n",
        "    [0.85, 0.1, 90],\n",
        "    [0.3, 0.7, 170],\n",
        "])\n",
        "\n",
        "# Corresponding labels: 1 = Spam, 0 = Not Spam\n",
        "Y = np.array([[1], [0], [1], [0], [1], [0]])\n",
        "\n",
        "# Normalize the third column (email length) for better learning\n",
        "X[:, 2] = X[:, 2] / np.max(X[:, 2])\n",
        "\n",
        "W = np.random.rand(X.shape[1], 1)  # 3 features\n",
        "b = np.random.rand(1)\n",
        "\n",
        "\n",
        "lr = 0.1\n",
        "epochs = 1000\n",
        "\n",
        "\n"
      ]
    },
    {
      "cell_type": "code",
      "execution_count": null,
      "metadata": {
        "id": "uJ_1p83Wgr5U"
      },
      "outputs": [],
      "source": [
        "def sigmoid(x):\n",
        "    return 1 / (1 + np.exp(-x))\n",
        "\n",
        "# Binary cross-entropy loss\n",
        "def cross_entropy_loss(y_true, y_pred):\n",
        "    eps = 1e-15  # avoid log(0)\n",
        "    y_pred = np.clip(y_pred, eps, 1 - eps)\n",
        "    return -np.mean(y_true * np.log(y_pred) + (1 - y_true)* np.log(1 - y_pred))\n"
      ]
    },
    {
      "cell_type": "code",
      "execution_count": null,
      "metadata": {
        "colab": {
          "base_uri": "https://localhost:8080/"
        },
        "id": "AQbaplktgjSh",
        "outputId": "6c3d48e9-2300-4ef0-e85a-53d41f4423be"
      },
      "outputs": [
        {
          "name": "stdout",
          "output_type": "stream",
          "text": [
            "Epoch 0, Loss: 0.8384\n",
            "Epoch 100, Loss: 0.0813\n",
            "Epoch 200, Loss: 0.0428\n",
            "Epoch 300, Loss: 0.0291\n",
            "Epoch 400, Loss: 0.0221\n",
            "Epoch 500, Loss: 0.0179\n",
            "Epoch 600, Loss: 0.0150\n",
            "Epoch 700, Loss: 0.0129\n",
            "Epoch 800, Loss: 0.0114\n",
            "Epoch 900, Loss: 0.0102\n",
            "\n",
            "Final Predictions:\n",
            "[[1.]\n",
            " [0.]\n",
            " [1.]\n",
            " [0.]\n",
            " [1.]\n",
            " [0.]]\n"
          ]
        }
      ],
      "source": [
        "# Training loop\n",
        "for epoch in range(epochs):\n",
        "    # Forward pass\n",
        "    z = np.dot(X, W) + b\n",
        "    A = sigmoid(z)\n",
        "\n",
        "\n",
        "    loss = cross_entropy_loss(Y, A)\n",
        "    d_loss = A - Y\n",
        "\n",
        "\n",
        "    dW = np.dot(X.T, d_loss)\n",
        "    db = np.sum(d_loss)\n",
        "\n",
        "    # Update weights and bias\n",
        "    W -= lr * dW\n",
        "    b -= lr * db\n",
        "\n",
        "    # Print progress\n",
        "    if epoch % 100 == 0:\n",
        "        print(f\"Epoch {epoch}, Loss: {loss:.4f}\")\n",
        "\n",
        "# Final predictions\n",
        "output = sigmoid(np.dot(X, W) + b)\n",
        "print(\"\\nFinal Predictions:\")\n",
        "print(output.round())\n"
      ]
    },
    {
      "cell_type": "code",
      "execution_count": null,
      "metadata": {
        "id": "Ut82yup1hBNc"
      },
      "outputs": [],
      "source": [
        "#Student's Placement\n",
        "import numpy as np\n",
        "\n",
        "# Example dataset: [10th %, 12th %, CGPA, IQ score]\n",
        "X = np.array([\n",
        "    [85, 78, 8.5, 120],\n",
        "    [60, 65, 6.0, 90],\n",
        "    [75, 80, 7.2, 110],\n",
        "    [55, 58, 5.8, 85],\n",
        "    [90, 88, 9.0, 130],\n",
        "    [50, 55, 5.5, 80],\n",
        "])\n",
        "\n",
        "Y = np.array([[1], [0], [1], [0], [1], [0]])\n",
        "\n",
        "# Normalize features\n",
        "X = X / np.max(X, axis=0)  # column-wise normalization\n",
        "\n",
        "W = np.random.rand(X.shape[1], 1)\n",
        "b = np.random.rand(1)\n",
        "\n",
        "lr = 0.1\n",
        "epochs = 1000\n",
        "\n",
        "# Activation function\n",
        "def sigmoid(x):\n",
        "    return 1 / (1 + np.exp(-x))\n",
        "\n",
        "# Binary Cross-Entropy Loss\n",
        "def cross_entropy_loss(y_true, y_pred):\n",
        "    eps = 1e-15\n",
        "    y_pred = np.clip(y_pred, eps, 1 - eps)\n",
        "    return -np.mean(y_true * np.log(y_pred) + (1 - y_true) * np.log(1 - y_pred))\n",
        "\n",
        "\n"
      ]
    },
    {
      "cell_type": "code",
      "execution_count": null,
      "metadata": {
        "colab": {
          "base_uri": "https://localhost:8080/"
        },
        "id": "OiruH4tRhlj7",
        "outputId": "5794a827-c820-488b-b312-f4902599911a"
      },
      "outputs": [
        {
          "name": "stdout",
          "output_type": "stream",
          "text": [
            "Epoch 0, Loss: 1.0480\n",
            "Epoch 100, Loss: 0.4345\n",
            "Epoch 200, Loss: 0.3221\n",
            "Epoch 300, Loss: 0.2567\n",
            "Epoch 400, Loss: 0.2144\n",
            "Epoch 500, Loss: 0.1848\n",
            "Epoch 600, Loss: 0.1630\n",
            "Epoch 700, Loss: 0.1462\n",
            "Epoch 800, Loss: 0.1328\n",
            "Epoch 900, Loss: 0.1219\n",
            "\n",
            "Final Predictions (Rounded):\n",
            "[[1.]\n",
            " [0.]\n",
            " [1.]\n",
            " [0.]\n",
            " [1.]\n",
            " [0.]]\n"
          ]
        }
      ],
      "source": [
        "# Training Loop\n",
        "for epoch in range(epochs):\n",
        "    z = np.dot(X, W) + b\n",
        "    A = sigmoid(z)\n",
        "\n",
        "    loss = cross_entropy_loss(Y, A)\n",
        "    d_loss = A - Y\n",
        "\n",
        "    dW = np.dot(X.T, d_loss)\n",
        "    db = np.sum(d_loss)\n",
        "\n",
        "    # Update parameters\n",
        "    W -= lr * dW\n",
        "    b -= lr * db\n",
        "\n",
        "\n",
        "    if epoch % 100 == 0:\n",
        "        print(f\"Epoch {epoch}, Loss: {loss:.4f}\")\n",
        "\n",
        "#Final Predictions\n",
        "output = sigmoid(np.dot(X, W) + b)\n",
        "print(\"\\nFinal Predictions (Rounded):\")\n",
        "print(output.round())"
      ]
    },
    {
      "cell_type": "code",
      "execution_count": null,
      "metadata": {
        "id": "20xc1w-Ah7LV"
      },
      "outputs": [],
      "source": [
        "#forecast temperature\n",
        "import numpy as np\n",
        "\n",
        "# Sample input: [Temp(t-3), Temp(t-2), Temp(t-1), Humidity(t-1), WindSpeed(t-1)]\n",
        "X = np.array([\n",
        "    [28, 29, 30, 60, 12],\n",
        "    [29, 30, 31, 65, 14],\n",
        "    [30, 31, 32, 58, 11],\n",
        "    [31, 32, 33, 55, 10],\n",
        "    [32, 33, 34, 57, 13],\n",
        "])\n",
        "\n",
        "Y = np.array([[31], [32], [33], [34], [35]])\n",
        "\n",
        "X = X / np.max(X, axis=0)\n",
        "\n",
        "W = np.random.rand(X.shape[1], 1)\n",
        "b = np.random.rand(1)\n",
        "\n",
        "lr = 0.1\n",
        "epochs = 1000\n",
        "\n",
        "def mse_loss(y_true, y_pred):\n",
        "    return np.mean((y_true - y_pred) ** 2)\n",
        "\n"
      ]
    },
    {
      "cell_type": "code",
      "execution_count": null,
      "metadata": {
        "colab": {
          "base_uri": "https://localhost:8080/"
        },
        "id": "QBiHdvM5h7Vi",
        "outputId": "481c7e00-8a0b-46b1-d05c-cce0c3a5ccd8"
      },
      "outputs": [
        {
          "name": "stdout",
          "output_type": "stream",
          "text": [
            "Epoch 0, Loss: 0.0062\n",
            "Epoch 100, Loss: 0.0057\n",
            "Epoch 200, Loss: 0.0053\n",
            "Epoch 300, Loss: 0.0049\n",
            "Epoch 400, Loss: 0.0045\n",
            "Epoch 500, Loss: 0.0042\n",
            "Epoch 600, Loss: 0.0039\n",
            "Epoch 700, Loss: 0.0036\n",
            "Epoch 800, Loss: 0.0033\n",
            "Epoch 900, Loss: 0.0031\n",
            "\n",
            "Forecasted Temperatures:\n",
            "[[31.09310149]\n",
            " [31.9654467 ]\n",
            " [33.01207364]\n",
            " [34.00274468]\n",
            " [34.93309188]]\n"
          ]
        }
      ],
      "source": [
        " #Training loop\n",
        "for epoch in range(epochs):\n",
        "    z = np.dot(X, W) + b\n",
        "    loss = mse_loss(Y, z)\n",
        "\n",
        "    d_loss = 2 * (z - Y) / Y.shape[0]\n",
        "    dW = np.dot(X.T, d_loss)\n",
        "    db = np.sum(d_loss)\n",
        "\n",
        "    W -= lr * dW\n",
        "    b -= lr * db\n",
        "\n",
        "    if epoch % 100 == 0:\n",
        "        print(f\"Epoch {epoch}, Loss: {loss:.4f}\")\n",
        "\n",
        "# Final predictions\n",
        "predicted_temp = np.dot(X, W) + b\n",
        "print(\"\\nForecasted Temperatures:\")\n",
        "print(predicted_temp)\n"
      ]
    }
  ],
  "metadata": {
    "colab": {
      "provenance": []
    },
    "kernelspec": {
      "display_name": "Python 3",
      "name": "python3"
    },
    "language_info": {
      "name": "python"
    }
  },
  "nbformat": 4,
  "nbformat_minor": 0
}
